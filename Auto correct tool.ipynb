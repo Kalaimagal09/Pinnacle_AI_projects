{
 "cells": [
  {
   "cell_type": "code",
   "execution_count": 6,
   "metadata": {},
   "outputs": [
    {
     "name": "stdout",
     "output_type": "stream",
     "text": [
      "{'define', 'study', 'agents', 'any', 'machines', 'environment', 'including', 'textbooks', 'intelligent', 'demonstrated', 'perceives', 'artificial', 'chance', 'that', 'actions', 'by', 'its', 'animals', 'opposed', 'displayed', 'natural', 'takes', 'ai', 'goals', 'is', 'maximize', 'achieving', 'the', 'of', 'humans', 'refers', 'field', 'successfully', 'to', 'leading', 'system', 'and', 'which', 'as', 'intelligence'}\n",
      "\n",
      "Vocabulary size: 40 words\n"
     ]
    }
   ],
   "source": [
    "import re\n",
    "\n",
    "corpus = \"\"\"\n",
    "Artificial intelligence (AI) is intelligence demonstrated by machines,\n",
    "as opposed to the natural intelligence displayed by animals including humans.\n",
    "Leading AI textbooks define the field as the study of intelligent agents,\n",
    "which refers to any system that perceives its environment and takes actions\n",
    "that maximize its chance of successfully achieving its goals.\n",
    "\"\"\"\n",
    "\n",
    "def build_vocabulary(text):\n",
    "    \"\"\"Processes text to create a set of unique words.\"\"\"\n",
    "    text = text.lower()\n",
    "    words = re.findall(r'\\b\\w+\\b', text)\n",
    "    return set(words)\n",
    "\n",
    "vocabulary = build_vocabulary(corpus)\n",
    "\n",
    "print(vocabulary)\n",
    "print(f\"\\nVocabulary size: {len(vocabulary)} words\")"
   ]
  },
  {
   "cell_type": "code",
   "execution_count": 7,
   "metadata": {},
   "outputs": [
    {
     "name": "stdout",
     "output_type": "stream",
     "text": [
      "'artificil' is a spelling error!\n",
      "'intellijence' is a spelling error!\n",
      "'is' is spelled correctly.\n",
      "'demonstrated' is spelled correctly.\n",
      "'by' is spelled correctly.\n",
      "'macheens' is a spelling error!\n",
      "\n",
      "Original Sentence: Artificil intellijence is demonstrated by macheens\n",
      "Checked Sentence: [artificil] [intellijence] is demonstrated by [macheens]\n"
     ]
    }
   ],
   "source": [
    "def check_spelling(sentence, vocabulary):\n",
    "    \"\"\"Checks each word in a sentence and identifies errors.\"\"\"\n",
    "    \n",
    "    corrected_sentence = []\n",
    "    words = re.findall(r'\\b\\w+\\b', sentence.lower())\n",
    "    \n",
    "    for word in words:\n",
    "        if word in vocabulary:\n",
    "            print(f\"'{word}' is spelled correctly.\")\n",
    "            corrected_sentence.append(word)\n",
    "        else:\n",
    "            print(f\"'{word}' is a spelling error!\")\n",
    "            corrected_sentence.append(f\"[{word}]\") \n",
    "            \n",
    "    return \" \".join(corrected_sentence)\n",
    "\n",
    "test_sentence = \"Artificil intellijence is demonstrated by macheens\"\n",
    "result = check_spelling(test_sentence, vocabulary)\n",
    "\n",
    "print(\"\\nOriginal Sentence:\", test_sentence)\n",
    "print(\"Checked Sentence:\", result)"
   ]
  },
  {
   "cell_type": "code",
   "execution_count": 8,
   "metadata": {},
   "outputs": [
    {
     "name": "stdout",
     "output_type": "stream",
     "text": [
      "Original Sentence: Artificil intellijence is demonstrated by macheens\n",
      "Corrected Sentence: artificial intelligence is demonstrated by machines\n"
     ]
    }
   ],
   "source": [
    "import re\n",
    "\n",
    "corpus = \"\"\"\n",
    "Artificial intelligence (AI) is intelligence demonstrated by machines,\n",
    "as opposed to the natural intelligence displayed by animals including humans.\n",
    "Leading AI textbooks define the field as the study of intelligent agents,\n",
    "which refers to any system that perceives its environment and takes actions\n",
    "that maximize its chance of successfully achieving its goals.\n",
    "\"\"\"\n",
    "\n",
    "def build_vocabulary(text):\n",
    "    text = text.lower()\n",
    "    words = re.findall(r'\\b\\w+\\b', text)\n",
    "    return set(words)\n",
    "\n",
    "vocabulary = build_vocabulary(corpus)\n",
    "\n",
    "def levenshtein_distance(s1, s2):\n",
    "    if len(s1) < len(s2):\n",
    "        return levenshtein_distance(s2, s1)\n",
    "    if len(s2) == 0:\n",
    "        return len(s1)\n",
    "    previous_row = range(len(s2) + 1)\n",
    "    for i, c1 in enumerate(s1):\n",
    "        current_row = [i + 1]\n",
    "        for j, c2 in enumerate(s2):\n",
    "            insertions = previous_row[j + 1] + 1\n",
    "            deletions = current_row[j] + 1\n",
    "            substitutions = previous_row[j] + (c1 != c2)\n",
    "            current_row.append(min(insertions, deletions, substitutions))\n",
    "        previous_row = current_row\n",
    "    return previous_row[-1]\n",
    "\n",
    "def spelling_corrector(sentence, vocabulary):\n",
    "    \"\"\"Checks and corrects a sentence using Levenshtein distance.\"\"\"\n",
    "    corrected_sentence = []\n",
    "    words = re.findall(r'\\b\\w+\\b', sentence.lower())\n",
    "    \n",
    "    for word in words:\n",
    "        if word in vocabulary:\n",
    "            corrected_sentence.append(word)\n",
    "        else:\n",
    "            min_distance = float('inf')\n",
    "            best_correction = word \n",
    "            \n",
    "            for vocab_word in vocabulary:\n",
    "                distance = levenshtein_distance(word, vocab_word)\n",
    "                if distance < min_distance:\n",
    "                    min_distance = distance\n",
    "                    best_correction = vocab_word\n",
    "            \n",
    "            corrected_sentence.append(best_correction)\n",
    "            \n",
    "    return \" \".join(corrected_sentence)\n",
    "\n",
    "test_sentence = \"Artificil intellijence is demonstrated by macheens\"\n",
    "result = spelling_corrector(test_sentence, vocabulary)\n",
    "\n",
    "print(\"Original Sentence:\", test_sentence)\n",
    "print(\"Corrected Sentence:\", result)"
   ]
  },
  {
   "cell_type": "code",
   "execution_count": null,
   "metadata": {},
   "outputs": [],
   "source": []
  }
 ],
 "metadata": {
  "kernelspec": {
   "display_name": "Python 3",
   "language": "python",
   "name": "python3"
  },
  "language_info": {
   "codemirror_mode": {
    "name": "ipython",
    "version": 3
   },
   "file_extension": ".py",
   "mimetype": "text/x-python",
   "name": "python",
   "nbconvert_exporter": "python",
   "pygments_lexer": "ipython3",
   "version": "3.7.4"
  }
 },
 "nbformat": 4,
 "nbformat_minor": 2
}
